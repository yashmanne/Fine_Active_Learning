{
 "cells": [
  {
   "cell_type": "code",
   "execution_count": 3,
   "id": "53f438ca",
   "metadata": {},
   "outputs": [],
   "source": [
    "import torch\n",
    "import torchvision\n",
    "from torchinfo import summary\n",
    "import scipy\n",
    "import torch.nn as nn\n",
    "import torchvision.transforms as transforms\n",
    "from torchvision.datasets import Flowers102\n",
    "from torch.utils.data import DataLoader, Subset\n",
    "\n",
    "# Define transforms for preprocessing\n",
    "transforms = transforms.Compose([\n",
    "    transforms.Resize(256),   # Resize the image to 256x256\n",
    "    transforms.CenterCrop(224),  # Crop the center 224x224 portion of the image\n",
    "    transforms.ToTensor(),    # Convert the image to a PyTorch tensor\n",
    "    transforms.Normalize(mean=[0.485, 0.456, 0.406], std=[0.229, 0.224, 0.225])  # Normalize the image (ImageNet RGB means)\n",
    "])\n",
    "\n",
    "# we resize and then center crop to remove borders \n",
    "# https://stackoverflow.com/questions/71341354/cnn-why-do-we-first-resize-the-image-to-256-and-then-center-crop-to-224\n",
    "# 224 is the expected input for ImageNet models\n",
    "\n",
    "\n",
    "# Load Flowers102 dataset\n",
    "flowers_dataset = Flowers102(root=\"./data/Flowers102_dataset\", split='train', transform=transforms, download=True)\n",
    "val_dataset = Flowers102(root=\"./data/Flowers102_dataset\", split='val', transform=transforms, download=True)\n",
    "\n",
    "# Select a subset of 1000 random training images\n",
    "subset_indices = torch.randperm(len(flowers_dataset))[:100]\n",
    "subset_dataset = Subset(flowers_dataset, subset_indices)\n",
    "\n",
    "# Select a subset of 200 random validation images\n",
    "valset_indices = torch.randperm(len(val_dataset))[:100]\n",
    "valset_dataset = Subset(flowers_dataset, subset_indices)\n",
    "\n",
    "# Define data loader\n",
    "batch_size = 32\n",
    "data_loader = DataLoader(subset_dataset, batch_size=batch_size, shuffle=True)\n",
    "val_loader =  DataLoader(valset_dataset, batch_size=batch_size, shuffle=True)\n",
    "# Load EfficientNet-B1 model\n",
    "model = torchvision.models.efficientnet_b1(weights=\"DEFAULT\")\n",
    "\n",
    "# update the number of classes in the last layer\n",
    "model.classifier[-1] = nn.Linear(in_features=model.classifier[-1].in_features, out_features=102, bias=True)\n",
    "\n",
    "# # Freeze all layers except the last one\n",
    "# for param in model.parameters():\n",
    "#     param.requires_grad = False"
   ]
  },
  {
   "cell_type": "code",
   "execution_count": 4,
   "id": "19bb1e4b",
   "metadata": {},
   "outputs": [
    {
     "data": {
      "text/plain": [
       "================================================================================\n",
       "Layer (type:depth-idx)                                  Param #\n",
       "================================================================================\n",
       "EfficientNet                                            --\n",
       "├─Sequential: 1-1                                       --\n",
       "│    └─Conv2dNormActivation: 2-1                        --\n",
       "│    │    └─Conv2d: 3-1                                 864\n",
       "│    │    └─BatchNorm2d: 3-2                            64\n",
       "│    │    └─SiLU: 3-3                                   --\n",
       "│    └─Sequential: 2-2                                  --\n",
       "│    │    └─MBConv: 3-4                                 1,448\n",
       "│    │    └─MBConv: 3-5                                 612\n",
       "│    └─Sequential: 2-3                                  --\n",
       "│    │    └─MBConv: 3-6                                 6,004\n",
       "│    │    └─MBConv: 3-7                                 10,710\n",
       "│    │    └─MBConv: 3-8                                 10,710\n",
       "│    └─Sequential: 2-4                                  --\n",
       "│    │    └─MBConv: 3-9                                 15,350\n",
       "│    │    └─MBConv: 3-10                                31,290\n",
       "│    │    └─MBConv: 3-11                                31,290\n",
       "│    └─Sequential: 2-5                                  --\n",
       "│    │    └─MBConv: 3-12                                37,130\n",
       "│    │    └─MBConv: 3-13                                102,900\n",
       "│    │    └─MBConv: 3-14                                102,900\n",
       "│    │    └─MBConv: 3-15                                102,900\n",
       "│    └─Sequential: 2-6                                  --\n",
       "│    │    └─MBConv: 3-16                                126,004\n",
       "│    │    └─MBConv: 3-17                                208,572\n",
       "│    │    └─MBConv: 3-18                                208,572\n",
       "│    │    └─MBConv: 3-19                                208,572\n",
       "│    └─Sequential: 2-7                                  --\n",
       "│    │    └─MBConv: 3-20                                262,492\n",
       "│    │    └─MBConv: 3-21                                587,952\n",
       "│    │    └─MBConv: 3-22                                587,952\n",
       "│    │    └─MBConv: 3-23                                587,952\n",
       "│    │    └─MBConv: 3-24                                587,952\n",
       "│    └─Sequential: 2-8                                  --\n",
       "│    │    └─MBConv: 3-25                                717,232\n",
       "│    │    └─MBConv: 3-26                                1,563,600\n",
       "│    └─Conv2dNormActivation: 2-9                        --\n",
       "│    │    └─Conv2d: 3-27                                409,600\n",
       "│    │    └─BatchNorm2d: 3-28                           2,560\n",
       "│    │    └─SiLU: 3-29                                  --\n",
       "├─AdaptiveAvgPool2d: 1-2                                --\n",
       "├─Sequential: 1-3                                       --\n",
       "│    └─Dropout: 2-10                                    --\n",
       "│    └─Linear: 2-11                                     130,662\n",
       "================================================================================\n",
       "Total params: 6,643,846\n",
       "Trainable params: 6,643,846\n",
       "Non-trainable params: 0\n",
       "================================================================================"
      ]
     },
     "execution_count": 4,
     "metadata": {},
     "output_type": "execute_result"
    }
   ],
   "source": [
    "summary(model)"
   ]
  },
  {
   "cell_type": "code",
   "execution_count": 6,
   "id": "8136761d",
   "metadata": {},
   "outputs": [],
   "source": [
    "from tqdm.auto import tqdm"
   ]
  },
  {
   "cell_type": "code",
   "execution_count": 7,
   "id": "b76625e3",
   "metadata": {},
   "outputs": [
    {
     "name": "stdout",
     "output_type": "stream",
     "text": [
      "Epoch 1/3\n",
      "----------\n"
     ]
    },
    {
     "data": {
      "application/vnd.jupyter.widget-view+json": {
       "model_id": "2ea7967f17b5475486638d16ad7baa0f",
       "version_major": 2,
       "version_minor": 0
      },
      "text/plain": [
       "  0%|          | 0/4 [00:00<?, ?it/s]"
      ]
     },
     "metadata": {},
     "output_type": "display_data"
    },
    {
     "name": "stdout",
     "output_type": "stream",
     "text": [
      "Loss: 4.5894\n"
     ]
    },
    {
     "data": {
      "application/vnd.jupyter.widget-view+json": {
       "model_id": "",
       "version_major": 2,
       "version_minor": 0
      },
      "text/plain": [
       "  0%|          | 0/4 [00:00<?, ?it/s]"
      ]
     },
     "metadata": {},
     "output_type": "display_data"
    },
    {
     "name": "stdout",
     "output_type": "stream",
     "text": [
      "Validation Loss: 0.4321, Accuracy: 0.3600\n",
      "Epoch 2/3\n",
      "----------\n"
     ]
    },
    {
     "data": {
      "application/vnd.jupyter.widget-view+json": {
       "model_id": "287a17487871416ea2f3644bf9d62c12",
       "version_major": 2,
       "version_minor": 0
      },
      "text/plain": [
       "  0%|          | 0/4 [00:00<?, ?it/s]"
      ]
     },
     "metadata": {},
     "output_type": "display_data"
    },
    {
     "name": "stdout",
     "output_type": "stream",
     "text": [
      "Loss: 3.8969\n"
     ]
    },
    {
     "data": {
      "application/vnd.jupyter.widget-view+json": {
       "model_id": "",
       "version_major": 2,
       "version_minor": 0
      },
      "text/plain": [
       "  0%|          | 0/4 [00:00<?, ?it/s]"
      ]
     },
     "metadata": {},
     "output_type": "display_data"
    },
    {
     "name": "stdout",
     "output_type": "stream",
     "text": [
      "Validation Loss: 0.3642, Accuracy: 0.8600\n",
      "Epoch 3/3\n",
      "----------\n"
     ]
    },
    {
     "data": {
      "application/vnd.jupyter.widget-view+json": {
       "model_id": "ecc4d8a95f8f45058b09e591e069dd1b",
       "version_major": 2,
       "version_minor": 0
      },
      "text/plain": [
       "  0%|          | 0/4 [00:00<?, ?it/s]"
      ]
     },
     "metadata": {},
     "output_type": "display_data"
    },
    {
     "name": "stdout",
     "output_type": "stream",
     "text": [
      "Loss: 2.9562\n"
     ]
    },
    {
     "data": {
      "application/vnd.jupyter.widget-view+json": {
       "model_id": "",
       "version_major": 2,
       "version_minor": 0
      },
      "text/plain": [
       "  0%|          | 0/4 [00:00<?, ?it/s]"
      ]
     },
     "metadata": {},
     "output_type": "display_data"
    },
    {
     "name": "stdout",
     "output_type": "stream",
     "text": [
      "Validation Loss: 0.2586, Accuracy: 0.8900\n",
      "Training complete!\n"
     ]
    }
   ],
   "source": [
    "# Define loss function and optimizer\n",
    "criterion = nn.CrossEntropyLoss()\n",
    "optimizer = torch.optim.Adam(model.parameters(), lr=0.001)\n",
    "\n",
    "# Train the model\n",
    "num_epochs = 3\n",
    "device = torch.device(\"cuda\" if torch.cuda.is_available() else \"cpu\")\n",
    "model.to(device)\n",
    "\n",
    "for epoch in range(num_epochs):\n",
    "    print(f\"Epoch {epoch+1}/{num_epochs}\")\n",
    "    print('-' * 10)\n",
    "    \n",
    "    # Training Phase\n",
    "    model.train()\n",
    "    running_loss = 0.0\n",
    "    for images, labels in tqdm(data_loader):\n",
    "        images, labels = images.to(device), labels.to(device)\n",
    "\n",
    "        optimizer.zero_grad()\n",
    "\n",
    "        outputs = model(images)\n",
    "        loss = criterion(outputs, labels)\n",
    "        \n",
    "        loss.backward()\n",
    "        optimizer.step()\n",
    "\n",
    "        running_loss += loss.item() * images.size(0)\n",
    "\n",
    "    epoch_loss = running_loss / len(subset_dataset)\n",
    "    print(f\"Loss: {epoch_loss:.4f}\")\n",
    "    \n",
    "    # Validation phase\n",
    "    model.eval()\n",
    "    val_loss = 0.0\n",
    "    correct = 0\n",
    "    total = 0\n",
    "    with torch.no_grad():\n",
    "        for images, labels in tqdm(val_loader, leave=False):\n",
    "            images, labels = images.to(device), labels.to(device)\n",
    "            outputs = model(images)\n",
    "            loss = criterion(outputs, labels)\n",
    "            val_loss += loss.item() * images.size(0)\n",
    "            _, predicted = torch.max(outputs, 1)\n",
    "            total += labels.size(0)\n",
    "            correct += (predicted == labels).sum().item()\n",
    "    epoch_val_loss = val_loss / len(val_dataset)\n",
    "    epoch_val_acc = correct / total\n",
    "    print(f\"Validation Loss: {epoch_val_loss:.4f}, Accuracy: {epoch_val_acc:.4f}\")\n",
    "\n",
    "print(\"Training complete!\")"
   ]
  },
  {
   "cell_type": "code",
   "execution_count": 9,
   "id": "d6c8c16b",
   "metadata": {},
   "outputs": [],
   "source": [
    "import matplotlib.pyplot as plt"
   ]
  },
  {
   "cell_type": "code",
   "execution_count": null,
   "id": "0c804799",
   "metadata": {},
   "outputs": [],
   "source": [
    "# Visualize 20 random test images with true and predicted labels as titles\n",
    "model.eval()\n",
    "test_loader = DataLoader(val_dataset, batch_size=1, shuffle=True)\n",
    "\n",
    "num_images = 5\n",
    "count = 0\n",
    "\n",
    "plt.figure(figsize=(16, 12))\n",
    "\n",
    "with torch.no_grad():\n",
    "    for images, labels in test_loader:\n",
    "        images, labels = images.to(device), labels.to(device)\n",
    "        outputs = model(images)\n",
    "        _, predicted = torch.max(outputs, 1)\n",
    "\n",
    "        if predicted.item() == labels.item() and count < num_images:\n",
    "            image = images.squeeze().cpu().permute(1, 2, 0)\n",
    "            image = (image * torch.tensor([0.229, 0.224, 0.225]) + torch.tensor([0.485, 0.456, 0.406])).clamp(0, 1)\n",
    "            plt.subplot(4, 5, count + 1)\n",
    "            plt.imshow(image)\n",
    "            plt.title(f'True: {flowers_dataset.classes[labels.item()]}\\nPredicted: {flowers_dataset.classes[predicted.item()]}')\n",
    "            plt.axis('off')\n",
    "            count += 1\n",
    "\n",
    "        if count >= num_images:\n",
    "            break\n",
    "\n",
    "plt.tight_layout()\n",
    "plt.show()"
   ]
  },
  {
   "cell_type": "code",
   "execution_count": null,
   "id": "2176f79e",
   "metadata": {},
   "outputs": [],
   "source": [
    "# # Replace the last layer with a new fully connected layer\n",
    "# num_ftrs = model._fc.in_features\n",
    "# model._fc = nn.Linear(num_ftrs, 102)  # 102 output classes for Flowers102 dataset\n",
    "\n",
    "# # Add a 3-layer MLP\n",
    "# class MLP(nn.Module):\n",
    "#     def __init__(self, input_size, hidden_size, output_size):\n",
    "#         super(MLP, self).__init__()\n",
    "#         self.fc1 = nn.Linear(input_size, hidden_size)\n",
    "#         self.fc2 = nn.Linear(hidden_size, hidden_size)\n",
    "#         self.fc3 = nn.Linear(hidden_size, output_size)\n",
    "\n",
    "#     def forward(self, x):\n",
    "#         x = torch.relu(self.fc1(x))\n",
    "#         x = torch.relu(self.fc2(x))\n",
    "#         x = self.fc3(x)\n",
    "#         return x\n",
    "\n",
    "# mlp = MLP(num_ftrs, 256, 102)  # Adjust hidden size as needed\n",
    "\n",
    "# # Combine EfficientNet and MLP\n",
    "# class CombinedModel(nn.Module):\n",
    "#     def __init__(self, backbone, mlp):\n",
    "#         super(CombinedModel, self).__init__()\n",
    "#         self.backbone = backbone\n",
    "#         self.mlp = mlp\n",
    "\n",
    "#     def forward(self, x):\n",
    "#         x = self.backbone(x)\n",
    "#         x = self.mlp(x)\n",
    "#         return x\n",
    "\n",
    "# combined_model = CombinedModel(model, mlp)"
   ]
  },
  {
   "cell_type": "code",
   "execution_count": null,
   "id": "b811b9b0",
   "metadata": {},
   "outputs": [],
   "source": []
  }
 ],
 "metadata": {
  "kernelspec": {
   "display_name": "Python 3 (ipykernel)",
   "language": "python",
   "name": "python3"
  },
  "language_info": {
   "codemirror_mode": {
    "name": "ipython",
    "version": 3
   },
   "file_extension": ".py",
   "mimetype": "text/x-python",
   "name": "python",
   "nbconvert_exporter": "python",
   "pygments_lexer": "ipython3",
   "version": "3.9.10"
  }
 },
 "nbformat": 4,
 "nbformat_minor": 5
}
