{
 "cells": [
  {
   "cell_type": "code",
   "execution_count": 24,
   "metadata": {},
   "outputs": [],
   "source": [
    "#Alex Netzley\n",
    "#2/17/2024\n",
    "\n",
    "import torch\n",
    "import torchvision\n",
    "import scipy\n"
   ]
  },
  {
   "cell_type": "markdown",
   "metadata": {},
   "source": [
    "Importing the Datasets"
   ]
  },
  {
   "cell_type": "code",
   "execution_count": null,
   "metadata": {},
   "outputs": [],
   "source": [
    "#FGVC Aircraft\n",
    "aircraft_dataset = torchvision.datasets.FGVCAircraft(root='data/FGVCAircraft_dataset', download=True)\n",
    "\n",
    "#Food 101\n",
    "food_dataset = torchvision.datasets.Food101(root='data/Food101_dataset', download=True)\n",
    "\n",
    "#Flowers 102 - GETTING ERRORS, NEED TO DEBUG\n",
    "flowers_dataset = torchvision.datasets.Flowers102(root='data/Flowers102_dataset', download=True)\n",
    "\n",
    "\n",
    "# Note: we can all all three of these as dataloaders"
   ]
  },
  {
   "cell_type": "code",
   "execution_count": null,
   "metadata": {},
   "outputs": [],
   "source": [
    "#Trying new way to import flowers 101 dataset\n",
    "\n",
    "# import os\n",
    "# import tarfile\n",
    "# import urllib.request\n",
    "# import torchvision.transforms as transforms\n",
    "# import torchvision.datasets as datasets\n",
    "\n",
    "# # Disable SSL certificate verification\n",
    "# import ssl\n",
    "# ssl._create_default_https_context = ssl._create_unverified_context\n",
    "\n",
    "# # Define the URL and file name for the Flowers102 dataset\n",
    "# url = \"http://www.robots.ox.ac.uk/~vgg/data/flowers/102/102flowers.tgz\"\n",
    "# filename = \"102flowers.tgz\"\n",
    "\n",
    "# # Define the directory to which the dataset will be extracted\n",
    "# root_dir = \"./data\"\n",
    "\n",
    "# # Create the directory if it doesn't exist\n",
    "# os.makedirs(root_dir, exist_ok=True)\n",
    "\n",
    "# # Download the dataset using wget\n",
    "# urllib.request.urlretrieve(url, os.path.join(root_dir, filename))\n",
    "\n",
    "# # Extract the downloaded archive\n",
    "# with tarfile.open(os.path.join(root_dir, filename), \"r:gz\") as tar:\n",
    "#     tar.extractall(path=root_dir)\n",
    "\n",
    "# # Define data transformations (you can customize these as needed)\n",
    "# data_transforms = transforms.Compose([\n",
    "#     transforms.Resize(256),   # Resize the image to 256x256\n",
    "#     transforms.CenterCrop(224),  # Crop the center 224x224 portion of the image\n",
    "#     transforms.ToTensor(),    # Convert the image to a PyTorch tensor\n",
    "#     transforms.Normalize(mean=[0.485, 0.456, 0.406], std=[0.229, 0.224, 0.225])  # Normalize the image\n",
    "# ])\n",
    "\n",
    "# # Define the path to the extracted dataset\n",
    "# dataset_dir = os.path.join(root_dir, \"jpg\")\n",
    "\n",
    "# # Load the dataset using PyTorch's ImageFolder dataset class\n",
    "# flowers_dataset = datasets.ImageFolder(root=dataset_dir, transform=data_transforms)\n",
    "\n",
    "# #\n"
   ]
  },
  {
   "cell_type": "markdown",
   "metadata": {},
   "source": [
    "Importing the Model"
   ]
  },
  {
   "cell_type": "code",
   "execution_count": 3,
   "metadata": {},
   "outputs": [
    {
     "name": "stderr",
     "output_type": "stream",
     "text": [
      "Downloading: \"https://download.pytorch.org/models/efficientnet_b1-c27df63c.pth\" to C:\\Users\\ajnet/.cache\\torch\\hub\\checkpoints\\efficientnet_b1-c27df63c.pth\n",
      "100.0%\n"
     ]
    }
   ],
   "source": [
    "#Efficientnet _b1\n",
    "model = torchvision.models.efficientnet_b1(weights=\"DEFAULT\")\n",
    "print(model)"
   ]
  },
  {
   "cell_type": "code",
   "execution_count": null,
   "metadata": {},
   "outputs": [],
   "source": [
    "#Everything Below Here has some bugs"
   ]
  },
  {
   "cell_type": "code",
   "execution_count": null,
   "metadata": {},
   "outputs": [],
   "source": [
    "transform = transforms.Compose([transforms.ToTensor()])\n",
    "aircraft_dataset = transform(aircraft_dataset)\n",
    "            \n",
    "dataloader = torch.utils.data.DataLoader(aircraft_dataset, batch_size = 16)"
   ]
  },
  {
   "cell_type": "code",
   "execution_count": null,
   "metadata": {},
   "outputs": [],
   "source": [
    "for inputs, labels in dataloader:\n",
    "    # Forward pass\n",
    "    with torch.no_grad():\n",
    "        outputs = model(inputs)\n",
    "    \n",
    "    # Compute predicted labels\n",
    "    _, predicted = torch.max(outputs, 1)\n",
    "    \n",
    "    # Update evaluation metrics\n",
    "    total_samples += labels.size(0)\n",
    "    correct_predictions += (predicted == labels).sum().item()\n",
    "\n",
    "# Compute evaluation metrics\n",
    "accuracy = correct_predictions / total_samples\n",
    "print('Accuracy:', accuracy)"
   ]
  }
 ],
 "metadata": {
  "kernelspec": {
   "display_name": "Python 3",
   "language": "python",
   "name": "python3"
  },
  "language_info": {
   "codemirror_mode": {
    "name": "ipython",
    "version": 3
   },
   "file_extension": ".py",
   "mimetype": "text/x-python",
   "name": "python",
   "nbconvert_exporter": "python",
   "pygments_lexer": "ipython3",
   "version": "3.12.1"
  }
 },
 "nbformat": 4,
 "nbformat_minor": 2
}
